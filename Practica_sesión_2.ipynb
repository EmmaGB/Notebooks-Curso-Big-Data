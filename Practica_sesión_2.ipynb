{
  "nbformat": 4,
  "nbformat_minor": 0,
  "metadata": {
    "colab": {
      "name": "Practica sesión 2.ipynb",
      "provenance": []
    },
    "kernelspec": {
      "name": "python3",
      "display_name": "Python 3"
    },
    "language_info": {
      "name": "python"
    }
  },
  "cells": [
    {
      "cell_type": "code",
      "metadata": {
        "colab": {
          "base_uri": "https://localhost:8080/"
        },
        "id": "YFkdyl2APJuE",
        "outputId": "5b9bee3f-1e90-44e6-9075-aea818128eb1"
      },
      "source": [
        "print(\"esto es una celda de texto\")  "
      ],
      "execution_count": 3,
      "outputs": [
        {
          "output_type": "stream",
          "name": "stdout",
          "text": [
            "esto es una celda de texto\n"
          ]
        }
      ]
    },
    {
      "cell_type": "code",
      "metadata": {
        "colab": {
          "base_uri": "https://localhost:8080/",
          "height": 35
        },
        "id": "DYE1jqGYQIRt",
        "outputId": "a487d086-8124-4772-e7ea-3ee4a2bffe9a"
      },
      "source": [
        "\"esto es una celda de texto\""
      ],
      "execution_count": 4,
      "outputs": [
        {
          "output_type": "execute_result",
          "data": {
            "application/vnd.google.colaboratory.intrinsic+json": {
              "type": "string"
            },
            "text/plain": [
              "'esto es una celda de texto'"
            ]
          },
          "metadata": {},
          "execution_count": 4
        }
      ]
    },
    {
      "cell_type": "code",
      "metadata": {
        "colab": {
          "base_uri": "https://localhost:8080/"
        },
        "id": "1KyJqnNaQNFV",
        "outputId": "d6864f21-65b8-4ab0-87d3-2d8159a4bac1"
      },
      "source": [
        "print(\"Hola Mundo!\")"
      ],
      "execution_count": 5,
      "outputs": [
        {
          "output_type": "stream",
          "name": "stdout",
          "text": [
            "hola mundo!\n"
          ]
        }
      ]
    },
    {
      "cell_type": "code",
      "metadata": {
        "colab": {
          "base_uri": "https://localhost:8080/"
        },
        "id": "VJM_5U0lQbfY",
        "outputId": "26aa1602-4e45-406d-9411-c359d99acca7"
      },
      "source": [
        "resultado= 2+2\n",
        "print(\"el resultado de sumar 2 más 2 es:\")\n",
        "print(resultado)"
      ],
      "execution_count": 8,
      "outputs": [
        {
          "output_type": "stream",
          "name": "stdout",
          "text": [
            "el resultado de sumar 2 más 2 es:\n",
            "4\n"
          ]
        }
      ]
    },
    {
      "cell_type": "code",
      "metadata": {
        "id": "gzvQXvFeQ6wB"
      },
      "source": [
        "# Esto es un comentario de una celda de código"
      ],
      "execution_count": 10,
      "outputs": []
    },
    {
      "cell_type": "code",
      "metadata": {
        "colab": {
          "base_uri": "https://localhost:8080/"
        },
        "id": "8a_X83R5RhZg",
        "outputId": "0bff2a57-9e1d-4713-c008-dc02af6ad8ae"
      },
      "source": [
        "a=35-8\n",
        "print(\"el valaor de la variable a es:\",a)\n"
      ],
      "execution_count": 11,
      "outputs": [
        {
          "output_type": "stream",
          "name": "stdout",
          "text": [
            "el valaor de la variable a es: 27\n"
          ]
        }
      ]
    },
    {
      "cell_type": "code",
      "metadata": {
        "colab": {
          "base_uri": "https://localhost:8080/"
        },
        "id": "5FbMqeq0SGAl",
        "outputId": "4d811718-5fc6-4d76-8a08-5ab42880ab59"
      },
      "source": [
        "help(len)"
      ],
      "execution_count": 12,
      "outputs": [
        {
          "output_type": "stream",
          "name": "stdout",
          "text": [
            "Help on built-in function len in module builtins:\n",
            "\n",
            "len(obj, /)\n",
            "    Return the number of items in a container.\n",
            "\n"
          ]
        }
      ]
    },
    {
      "cell_type": "code",
      "metadata": {
        "id": "MCqMDeGJSMhE"
      },
      "source": [
        "len?"
      ],
      "execution_count": 13,
      "outputs": []
    },
    {
      "cell_type": "code",
      "metadata": {
        "colab": {
          "base_uri": "https://localhost:8080/"
        },
        "id": "pzmQkGyVSRKm",
        "outputId": "71666b9f-973b-4134-bf88-b5464f1e8e92"
      },
      "source": [
        "len(\"aprendizaje\")"
      ],
      "execution_count": 15,
      "outputs": [
        {
          "output_type": "execute_result",
          "data": {
            "text/plain": [
              "11"
            ]
          },
          "metadata": {},
          "execution_count": 15
        }
      ]
    },
    {
      "cell_type": "code",
      "metadata": {
        "id": "A3AgDvf8SYEa"
      },
      "source": [
        ""
      ],
      "execution_count": null,
      "outputs": []
    }
  ]
}