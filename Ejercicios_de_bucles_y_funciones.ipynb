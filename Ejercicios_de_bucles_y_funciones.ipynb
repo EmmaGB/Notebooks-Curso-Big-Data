{
  "nbformat": 4,
  "nbformat_minor": 0,
  "metadata": {
    "colab": {
      "name": "Ejercicios_de_bucles_y_funciones.ipynb",
      "provenance": [],
      "collapsed_sections": [],
      "include_colab_link": true
    },
    "kernelspec": {
      "name": "python3",
      "display_name": "Python 3"
    },
    "language_info": {
      "name": "python"
    }
  },
  "cells": [
    {
      "cell_type": "markdown",
      "metadata": {
        "id": "view-in-github",
        "colab_type": "text"
      },
      "source": [
        "<a href=\"https://colab.research.google.com/github/EmmaGB/Notebooks-Curso-Big-Data/blob/main/Ejercicios_de_bucles_y_funciones.ipynb\" target=\"_parent\"><img src=\"https://colab.research.google.com/assets/colab-badge.svg\" alt=\"Open In Colab\"/></a>"
      ]
    },
    {
      "cell_type": "markdown",
      "metadata": {
        "id": "vtPh0W9YRARa"
      },
      "source": [
        "1. Escriba un programa que pida al usuario un número entero positivo y muestre por pantalla todos los números desde 1 hasta ese número."
      ]
    },
    {
      "cell_type": "code",
      "metadata": {
        "colab": {
          "base_uri": "https://localhost:8080/"
        },
        "id": "JLqo1SUQz3lL",
        "outputId": "d73ac68e-12cc-4a1f-ea87-92005378f105"
      },
      "source": [
        "num = int(input (\"Indicar un número entero positivo: \") )\n",
        "for i in range(num):\n",
        "  print(i+1)"
      ],
      "execution_count": 2,
      "outputs": [
        {
          "output_type": "stream",
          "name": "stdout",
          "text": [
            "Indicar un número entero positivo: 5\n",
            "1\n",
            "2\n",
            "3\n",
            "4\n",
            "5\n"
          ]
        }
      ]
    },
    {
      "cell_type": "markdown",
      "metadata": {
        "id": "1nfFwNu3S5Pr"
      },
      "source": [
        "2. Escriba un programa que pida al usuario una palabra y luego muestre por pantalla una a una las letras de la palabra introducida empezando por la última."
      ]
    },
    {
      "cell_type": "code",
      "metadata": {
        "colab": {
          "base_uri": "https://localhost:8080/"
        },
        "id": "PjZXNxqLz4gB",
        "outputId": "4ebe7267-aa07-46e8-feb1-7d1a7a77cbfe"
      },
      "source": [
        "palabra = input (\"Indicar palabra: \") \n",
        "palabraInvertida = palabra[::-1]\n",
        "for i in palabraInvertida:\n",
        "  print(i)"
      ],
      "execution_count": 3,
      "outputs": [
        {
          "output_type": "stream",
          "name": "stdout",
          "text": [
            "Indicar palabra: casita\n",
            "a\n",
            "t\n",
            "i\n",
            "s\n",
            "a\n",
            "c\n"
          ]
        }
      ]
    },
    {
      "cell_type": "markdown",
      "metadata": {
        "id": "2PVsgmVVTzD7"
      },
      "source": [
        "3. Escriba un programa que realice una cuenta atrás desde 10 usando \"while\""
      ]
    },
    {
      "cell_type": "code",
      "metadata": {
        "colab": {
          "base_uri": "https://localhost:8080/"
        },
        "id": "FEZsqrlsz6Gy",
        "outputId": "f5fea26e-ff17-40b7-8867-e47135ce8aa3"
      },
      "source": [
        "i = 10\n",
        "while i > 0:\n",
        "  print(i)\n",
        "  i-=1"
      ],
      "execution_count": 4,
      "outputs": [
        {
          "output_type": "stream",
          "name": "stdout",
          "text": [
            "10\n",
            "9\n",
            "8\n",
            "7\n",
            "6\n",
            "5\n",
            "4\n",
            "3\n",
            "2\n",
            "1\n"
          ]
        }
      ]
    },
    {
      "cell_type": "markdown",
      "metadata": {
        "id": "5nLjf-yPVBE8"
      },
      "source": [
        "4. Escribir una función que muestre por pantalla el saludo ¡Hola! cada vez que se la invoque."
      ]
    },
    {
      "cell_type": "code",
      "metadata": {
        "colab": {
          "base_uri": "https://localhost:8080/"
        },
        "id": "d4uv9NGWz8tq",
        "outputId": "5d355290-35e2-4755-d2b3-61a412e12be5"
      },
      "source": [
        "def saludo():\n",
        "  \"\"\"\n",
        "  Función que muestra el saludo ¡Hola!\n",
        "  \"\"\"\n",
        "  return \"¡Hola!\"\n",
        "\n",
        "print(saludo())"
      ],
      "execution_count": 5,
      "outputs": [
        {
          "output_type": "stream",
          "name": "stdout",
          "text": [
            "¡Hola!\n"
          ]
        }
      ]
    },
    {
      "cell_type": "markdown",
      "metadata": {
        "id": "lpkaJay0VkO0"
      },
      "source": [
        "5. Escribir una función que solicite el nombre al usuario y muestre por pantalla el saludo ¡Hola +nombre! con el nombre del usuario"
      ]
    },
    {
      "cell_type": "code",
      "metadata": {
        "colab": {
          "base_uri": "https://localhost:8080/"
        },
        "id": "h4U9zD6c15JU",
        "outputId": "47a81e74-1670-4930-e263-e422f6e51d13"
      },
      "source": [
        "def saludo(nombreusu):\n",
        "  \"\"\"\n",
        "  Función que muestra el saludo ¡Hola +nombre!\n",
        "  \"\"\"\n",
        "  return \"¡Hola \" + nombreusu + \"!\"\n",
        "\n",
        "nombre = input (\"Indicar nombre de usuario: \") \n",
        "print(saludo(nombre))"
      ],
      "execution_count": 6,
      "outputs": [
        {
          "output_type": "stream",
          "name": "stdout",
          "text": [
            "Indicar nombre de usuario: Emma\n",
            "¡Hola Emma!\n"
          ]
        }
      ]
    },
    {
      "cell_type": "markdown",
      "metadata": {
        "id": "qexAwuG4W8ak"
      },
      "source": [
        "6. Escriba una función llamada hipotenusa que devuelva el valor de la hipotenusa cuando se la invoque con el valor de los catetos de un triángulo rectángulo\n",
        "\n",
        "NOTA: \n",
        "\n",
        "$h^2 = a^2 + b^2$\n",
        "\n",
        "$h = (a^2 + b^2)^(1/2)$\n"
      ]
    },
    {
      "cell_type": "code",
      "metadata": {
        "colab": {
          "base_uri": "https://localhost:8080/"
        },
        "id": "01gDXljP2JVf",
        "outputId": "f6f4408a-0725-49a4-a4a8-778ff6ad383a"
      },
      "source": [
        "def hipotenusa(a, b):\n",
        "  \"\"\"\n",
        "  funcion hipotenusa . Devulve la hipotenusa de un cuadrado\n",
        "  \"\"\"\n",
        "  return (a**2 + b**2)**(1/2)\n",
        "hipotenusa(3,4)"
      ],
      "execution_count": 9,
      "outputs": [
        {
          "output_type": "execute_result",
          "data": {
            "text/plain": [
              "5.0"
            ]
          },
          "metadata": {},
          "execution_count": 9
        }
      ]
    }
  ]
}