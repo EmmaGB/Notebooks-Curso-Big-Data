{
  "nbformat": 4,
  "nbformat_minor": 0,
  "metadata": {
    "kernelspec": {
      "display_name": "Python [Root]",
      "language": "python",
      "name": "Python [Root]"
    },
    "language_info": {
      "codemirror_mode": {
        "name": "ipython",
        "version": 3
      },
      "file_extension": ".py",
      "mimetype": "text/x-python",
      "name": "python",
      "nbconvert_exporter": "python",
      "pygments_lexer": "ipython3",
      "version": "3.5.2"
    },
    "colab": {
      "name": "Copia de Ejercicios_Numpy.ipynb",
      "provenance": [],
      "include_colab_link": true
    }
  },
  "cells": [
    {
      "cell_type": "markdown",
      "metadata": {
        "id": "view-in-github",
        "colab_type": "text"
      },
      "source": [
        "<a href=\"https://colab.research.google.com/github/EmmaGB/Notebooks-Curso-Big-Data/blob/main/Ejercicios_Numpy.ipynb\" target=\"_parent\"><img src=\"https://colab.research.google.com/assets/colab-badge.svg\" alt=\"Open In Colab\"/></a>"
      ]
    },
    {
      "cell_type": "code",
      "metadata": {
        "id": "b6MZRDL4855A"
      },
      "source": [
        "import numpy as np"
      ],
      "execution_count": null,
      "outputs": []
    },
    {
      "cell_type": "markdown",
      "metadata": {
        "id": "1RFu-SqY9YzC"
      },
      "source": [
        "1. Crear un array con valores dentro del rango 10 a 49"
      ]
    },
    {
      "cell_type": "code",
      "metadata": {
        "colab": {
          "base_uri": "https://localhost:8080/"
        },
        "id": "0jKlE3Dm8617",
        "outputId": "d7b3fc76-daf0-4f9a-8e2e-ad99c054c56d"
      },
      "source": [
        "a=np.arange(10,50)\n",
        "a"
      ],
      "execution_count": null,
      "outputs": [
        {
          "output_type": "execute_result",
          "data": {
            "text/plain": [
              "array([10, 11, 12, 13, 14, 15, 16, 17, 18, 19, 20, 21, 22, 23, 24, 25, 26,\n",
              "       27, 28, 29, 30, 31, 32, 33, 34, 35, 36, 37, 38, 39, 40, 41, 42, 43,\n",
              "       44, 45, 46, 47, 48, 49])"
            ]
          },
          "metadata": {},
          "execution_count": 14
        }
      ]
    },
    {
      "cell_type": "markdown",
      "metadata": {
        "id": "ohjn9gA39YzE"
      },
      "source": [
        "2. Invertir el array"
      ]
    },
    {
      "cell_type": "code",
      "metadata": {
        "id": "P-nUVr21_b3b",
        "colab": {
          "base_uri": "https://localhost:8080/"
        },
        "outputId": "99d3fa37-9a89-46d1-9f18-a0869fea9e4f"
      },
      "source": [
        "a=a[::-1]\n",
        "a"
      ],
      "execution_count": null,
      "outputs": [
        {
          "output_type": "execute_result",
          "data": {
            "text/plain": [
              "array([49, 48, 47, 46, 45, 44, 43, 42, 41, 40, 39, 38, 37, 36, 35, 34, 33,\n",
              "       32, 31, 30, 29, 28, 27, 26, 25, 24, 23, 22, 21, 20, 19, 18, 17, 16,\n",
              "       15, 14, 13, 12, 11, 10])"
            ]
          },
          "metadata": {},
          "execution_count": 15
        }
      ]
    },
    {
      "cell_type": "code",
      "metadata": {
        "id": "-1vLJNwM_WF2"
      },
      "source": [
        ""
      ],
      "execution_count": null,
      "outputs": []
    },
    {
      "cell_type": "markdown",
      "metadata": {
        "id": "Ou9NcGGF9YzF"
      },
      "source": [
        "3. Crear una array o matriz 1D con valores de 0 a 8. Cambiar la forma de la matriz a 3x3"
      ]
    },
    {
      "cell_type": "code",
      "metadata": {
        "colab": {
          "base_uri": "https://localhost:8080/"
        },
        "id": "aiZW9bwS_xoW",
        "outputId": "8620cdcc-68da-4e51-d96d-fdd80f6ebf93"
      },
      "source": [
        "a=np.arange(0,9)\n",
        "a\n",
        "a=a.reshape(3,3)\n",
        "a"
      ],
      "execution_count": null,
      "outputs": [
        {
          "output_type": "execute_result",
          "data": {
            "text/plain": [
              "array([[0, 1, 2],\n",
              "       [3, 4, 5],\n",
              "       [6, 7, 8]])"
            ]
          },
          "metadata": {},
          "execution_count": 22
        }
      ]
    },
    {
      "cell_type": "markdown",
      "metadata": {
        "id": "hFxWSSsA9YzI"
      },
      "source": [
        "4. Crear una matriz identidad de 6x6"
      ]
    },
    {
      "cell_type": "code",
      "metadata": {
        "colab": {
          "base_uri": "https://localhost:8080/"
        },
        "id": "HYTfgqGP_xDE",
        "outputId": "7db8e73a-1735-4683-fa08-92974faeb4e4"
      },
      "source": [
        "a=np.eye(6)\n",
        "a"
      ],
      "execution_count": null,
      "outputs": [
        {
          "output_type": "execute_result",
          "data": {
            "text/plain": [
              "array([[1., 0., 0., 0., 0., 0.],\n",
              "       [0., 1., 0., 0., 0., 0.],\n",
              "       [0., 0., 1., 0., 0., 0.],\n",
              "       [0., 0., 0., 1., 0., 0.],\n",
              "       [0., 0., 0., 0., 1., 0.],\n",
              "       [0., 0., 0., 0., 0., 1.]])"
            ]
          },
          "metadata": {},
          "execution_count": 23
        }
      ]
    },
    {
      "cell_type": "markdown",
      "metadata": {
        "id": "3D2-jcNS9YzJ"
      },
      "source": [
        "5. Crear una matriz con valores al azar con forma 3x3x3 "
      ]
    },
    {
      "cell_type": "code",
      "metadata": {
        "colab": {
          "base_uri": "https://localhost:8080/"
        },
        "id": "TitnRRD-_wVt",
        "outputId": "059db5d4-e81a-41cb-c3cc-cd238de9c9a5"
      },
      "source": [
        "a=np.random.rand(3,3,3)\n",
        "a"
      ],
      "execution_count": null,
      "outputs": [
        {
          "output_type": "execute_result",
          "data": {
            "text/plain": [
              "array([[[0.25183706, 0.57485362, 0.73962977],\n",
              "        [0.69151104, 0.05226546, 0.50126541],\n",
              "        [0.28378894, 0.46744688, 0.55903235]],\n",
              "\n",
              "       [[0.38855796, 0.17022061, 0.76720981],\n",
              "        [0.53769168, 0.25451883, 0.42274588],\n",
              "        [0.95246763, 0.89406548, 0.39640257]],\n",
              "\n",
              "       [[0.61983501, 0.03403208, 0.90321926],\n",
              "        [0.16328638, 0.07268598, 0.77672246],\n",
              "        [0.25779823, 0.87328009, 0.92722826]]])"
            ]
          },
          "metadata": {},
          "execution_count": 38
        }
      ]
    },
    {
      "cell_type": "markdown",
      "metadata": {
        "id": "WX2GXD4L9YzK"
      },
      "source": [
        "6. Encontrar los indices de los valores minimos y maximos de la anterior matriz"
      ]
    },
    {
      "cell_type": "code",
      "metadata": {
        "id": "oVCxMqay_vjz",
        "colab": {
          "base_uri": "https://localhost:8080/"
        },
        "outputId": "202ce769-4ea1-420e-bf98-08da6158ae80"
      },
      "source": [
        "indicemin=np.argmin(a)\n",
        "indicemin\n"
      ],
      "execution_count": null,
      "outputs": [
        {
          "output_type": "execute_result",
          "data": {
            "text/plain": [
              "19"
            ]
          },
          "metadata": {},
          "execution_count": 39
        }
      ]
    },
    {
      "cell_type": "code",
      "metadata": {
        "colab": {
          "base_uri": "https://localhost:8080/"
        },
        "id": "B2HPlxZ0AswI",
        "outputId": "9b55cfaf-dea5-4e17-8753-9d3d09d2f451"
      },
      "source": [
        "indicimax=np.argmax(a)\n",
        "indicimax"
      ],
      "execution_count": null,
      "outputs": [
        {
          "output_type": "execute_result",
          "data": {
            "text/plain": [
              "15"
            ]
          },
          "metadata": {},
          "execution_count": 40
        }
      ]
    },
    {
      "cell_type": "markdown",
      "metadata": {
        "id": "SWxt_CgB9YzM"
      },
      "source": [
        "7. Crear dos arrays al azar A y B, verificar si son iguales"
      ]
    },
    {
      "cell_type": "code",
      "metadata": {
        "id": "ePivcWav_u5e",
        "colab": {
          "base_uri": "https://localhost:8080/"
        },
        "outputId": "a2423035-3bdf-4ee0-80ad-fe841773c4d3"
      },
      "source": [
        "A=np.random.rand(2,2)\n",
        "B=np.random.rand(2,2)\n",
        "A==B\n",
        "\n"
      ],
      "execution_count": null,
      "outputs": [
        {
          "output_type": "execute_result",
          "data": {
            "text/plain": [
              "array([[False, False],\n",
              "       [False, False]])"
            ]
          },
          "metadata": {},
          "execution_count": 44
        }
      ]
    },
    {
      "cell_type": "markdown",
      "metadata": {
        "id": "wvRe-Jhd9YzH"
      },
      "source": [
        "8. Encontrar los indices que no son ceros del array [1,2,4,2,4,0,1,0,0,0,12,4,5,6,7,0]"
      ]
    },
    {
      "cell_type": "code",
      "metadata": {
        "id": "FptxpLU__t6l",
        "colab": {
          "base_uri": "https://localhost:8080/"
        },
        "outputId": "89cb3037-ec48-459b-9a04-fc8db636c712"
      },
      "source": [
        "a= [1,2,4,2,4,0,1,0,0,0,12,4,5,6,7,0]\n",
        "a!= 0"
      ],
      "execution_count": null,
      "outputs": [
        {
          "output_type": "execute_result",
          "data": {
            "text/plain": [
              "True"
            ]
          },
          "metadata": {},
          "execution_count": 52
        }
      ]
    },
    {
      "cell_type": "markdown",
      "metadata": {
        "id": "9vVPScoa9YzK"
      },
      "source": [
        "9. Crear una matriz de 10x10 con 1's en los bordes y 0 en el interior (con rangos de indices)"
      ]
    },
    {
      "cell_type": "code",
      "metadata": {
        "id": "rbr9A-0B_tCL",
        "colab": {
          "base_uri": "https://localhost:8080/"
        },
        "outputId": "22464b26-a44c-4d09-c2b9-2f9e0f0aa26b"
      },
      "source": [
        "matriz4=np.zeros((10,10))\n",
        "matriz4[::,::9]=1\n",
        "matriz4"
      ],
      "execution_count": null,
      "outputs": [
        {
          "output_type": "execute_result",
          "data": {
            "text/plain": [
              "array([[1., 0., 0., 0., 0., 0., 0., 0., 0., 1.],\n",
              "       [1., 0., 0., 0., 0., 0., 0., 0., 0., 1.],\n",
              "       [1., 0., 0., 0., 0., 0., 0., 0., 0., 1.],\n",
              "       [1., 0., 0., 0., 0., 0., 0., 0., 0., 1.],\n",
              "       [1., 0., 0., 0., 0., 0., 0., 0., 0., 1.],\n",
              "       [1., 0., 0., 0., 0., 0., 0., 0., 0., 1.],\n",
              "       [1., 0., 0., 0., 0., 0., 0., 0., 0., 1.],\n",
              "       [1., 0., 0., 0., 0., 0., 0., 0., 0., 1.],\n",
              "       [1., 0., 0., 0., 0., 0., 0., 0., 0., 1.],\n",
              "       [1., 0., 0., 0., 0., 0., 0., 0., 0., 1.]])"
            ]
          },
          "metadata": {},
          "execution_count": 88
        }
      ]
    },
    {
      "cell_type": "code",
      "metadata": {
        "id": "ID7h9sdo_rLm"
      },
      "source": [
        ""
      ],
      "execution_count": null,
      "outputs": []
    },
    {
      "cell_type": "markdown",
      "metadata": {
        "id": "NTKSyjX09YzL"
      },
      "source": [
        "10. Crear una matriz de 5x5 con valores en los renglones que vayan de 0 a 4"
      ]
    },
    {
      "cell_type": "code",
      "metadata": {
        "id": "fPe7LeB-_sLj",
        "colab": {
          "base_uri": "https://localhost:8080/"
        },
        "outputId": "fe66b208-aa55-4d64-b3a8-4304e93e77ee"
      },
      "source": [
        "matriz=np.zeros((5,5))\n",
        "matriz\n",
        "matriz +=np.arange(0,5)\n",
        "matriz"
      ],
      "execution_count": null,
      "outputs": [
        {
          "output_type": "execute_result",
          "data": {
            "text/plain": [
              "array([[0., 1., 2., 3., 4.],\n",
              "       [0., 1., 2., 3., 4.],\n",
              "       [0., 1., 2., 3., 4.],\n",
              "       [0., 1., 2., 3., 4.],\n",
              "       [0., 1., 2., 3., 4.]])"
            ]
          },
          "metadata": {},
          "execution_count": 57
        }
      ]
    }
  ]
}