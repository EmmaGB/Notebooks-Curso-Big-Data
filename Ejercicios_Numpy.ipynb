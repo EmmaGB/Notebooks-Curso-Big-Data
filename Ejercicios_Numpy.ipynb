{
  "nbformat": 4,
  "nbformat_minor": 0,
  "metadata": {
    "kernelspec": {
      "display_name": "Python [Root]",
      "language": "python",
      "name": "Python [Root]"
    },
    "language_info": {
      "codemirror_mode": {
        "name": "ipython",
        "version": 3
      },
      "file_extension": ".py",
      "mimetype": "text/x-python",
      "name": "python",
      "nbconvert_exporter": "python",
      "pygments_lexer": "ipython3",
      "version": "3.5.2"
    },
    "colab": {
      "name": "Ejercicios_Numpy.ipynb",
      "provenance": [],
      "include_colab_link": true
    }
  },
  "cells": [
    {
      "cell_type": "markdown",
      "metadata": {
        "id": "view-in-github",
        "colab_type": "text"
      },
      "source": [
        "<a href=\"https://colab.research.google.com/github/EmmaGB/Notebooks-Curso-Big-Data/blob/main/Ejercicios_Numpy.ipynb\" target=\"_parent\"><img src=\"https://colab.research.google.com/assets/colab-badge.svg\" alt=\"Open In Colab\"/></a>"
      ]
    },
    {
      "cell_type": "code",
      "metadata": {
        "id": "b6MZRDL4855A"
      },
      "source": [
        "import numpy as np"
      ],
      "execution_count": 2,
      "outputs": []
    },
    {
      "cell_type": "markdown",
      "metadata": {
        "id": "1RFu-SqY9YzC"
      },
      "source": [
        "1. Crear un array con valores dentro del rango 10 a 49"
      ]
    },
    {
      "cell_type": "code",
      "metadata": {
        "colab": {
          "base_uri": "https://localhost:8080/"
        },
        "id": "0jKlE3Dm8617",
        "outputId": "a7de2194-bcfa-42a3-fcb7-94e555fa180d"
      },
      "source": [
        "a=np.arange(10,50)\n",
        "print(a)"
      ],
      "execution_count": 18,
      "outputs": [
        {
          "output_type": "stream",
          "name": "stdout",
          "text": [
            "[10 11 12 13 14 15 16 17 18 19 20 21 22 23 24 25 26 27 28 29 30 31 32 33\n",
            " 34 35 36 37 38 39 40 41 42 43 44 45 46 47 48 49]\n"
          ]
        }
      ]
    },
    {
      "cell_type": "markdown",
      "metadata": {
        "id": "ohjn9gA39YzE"
      },
      "source": [
        "2. Invertir el array"
      ]
    },
    {
      "cell_type": "code",
      "metadata": {
        "id": "P-nUVr21_b3b"
      },
      "source": [
        "a=np.array([10,49])\n",
        "print(a)"
      ],
      "execution_count": null,
      "outputs": []
    },
    {
      "cell_type": "code",
      "metadata": {
        "id": "-1vLJNwM_WF2"
      },
      "source": [
        ""
      ],
      "execution_count": null,
      "outputs": []
    },
    {
      "cell_type": "markdown",
      "metadata": {
        "id": "Ou9NcGGF9YzF"
      },
      "source": [
        "3. Crear una array o matriz 1D con valores de 0 a 8. Cambiar la forma de la matriz a 3x3"
      ]
    },
    {
      "cell_type": "code",
      "metadata": {
        "colab": {
          "base_uri": "https://localhost:8080/"
        },
        "id": "aiZW9bwS_xoW",
        "outputId": "d2b13bba-ecf9-4b5b-c042-dfb42286ad9b"
      },
      "source": [
        "a=np.array([0,1,2,3,4,5,6,7,8])\n",
        "print(a)"
      ],
      "execution_count": 10,
      "outputs": [
        {
          "output_type": "stream",
          "name": "stdout",
          "text": [
            "[0 1 2 3 4 5 6 7 8]\n"
          ]
        }
      ]
    },
    {
      "cell_type": "markdown",
      "metadata": {
        "id": "hFxWSSsA9YzI"
      },
      "source": [
        "4. Crear una matriz identidad de 6x6"
      ]
    },
    {
      "cell_type": "code",
      "metadata": {
        "colab": {
          "base_uri": "https://localhost:8080/"
        },
        "id": "HYTfgqGP_xDE",
        "outputId": "0b5d019e-318d-46ed-beb9-8ad1c73404a9"
      },
      "source": [
        "a=np.empty((6,6))\n",
        "print(a)"
      ],
      "execution_count": 13,
      "outputs": [
        {
          "output_type": "stream",
          "name": "stdout",
          "text": [
            "[[4.64510579e-310 0.00000000e+000 0.00000000e+000 0.00000000e+000\n",
            "  0.00000000e+000 0.00000000e+000]\n",
            " [0.00000000e+000 0.00000000e+000 0.00000000e+000 0.00000000e+000\n",
            "  0.00000000e+000 0.00000000e+000]\n",
            " [0.00000000e+000 0.00000000e+000 0.00000000e+000 0.00000000e+000\n",
            "  0.00000000e+000 0.00000000e+000]\n",
            " [0.00000000e+000 0.00000000e+000 0.00000000e+000 0.00000000e+000\n",
            "  0.00000000e+000 0.00000000e+000]\n",
            " [0.00000000e+000 0.00000000e+000 0.00000000e+000 0.00000000e+000\n",
            "  0.00000000e+000 0.00000000e+000]\n",
            " [0.00000000e+000 0.00000000e+000 0.00000000e+000 0.00000000e+000\n",
            "  0.00000000e+000 0.00000000e+000]]\n"
          ]
        }
      ]
    },
    {
      "cell_type": "markdown",
      "metadata": {
        "id": "3D2-jcNS9YzJ"
      },
      "source": [
        "5. Crear una matriz con valores al azar con forma 3x3x3 "
      ]
    },
    {
      "cell_type": "code",
      "metadata": {
        "colab": {
          "base_uri": "https://localhost:8080/"
        },
        "id": "TitnRRD-_wVt",
        "outputId": "2b8b98eb-937e-46f5-8939-a7716450dab2"
      },
      "source": [
        "a=np.random.random((3,3,3))\n",
        "print(a)"
      ],
      "execution_count": 15,
      "outputs": [
        {
          "output_type": "stream",
          "name": "stdout",
          "text": [
            "[[[9.88016100e-01 2.91071384e-01 6.54414544e-01]\n",
            "  [8.90874631e-01 8.43118289e-01 4.02478022e-01]\n",
            "  [7.89492238e-01 9.84435785e-01 6.15123612e-01]]\n",
            "\n",
            " [[7.33445775e-04 2.96405447e-01 2.50961375e-01]\n",
            "  [6.40328112e-01 6.01689543e-01 1.48322586e-01]\n",
            "  [5.38369748e-01 6.18848611e-01 8.60992030e-01]]\n",
            "\n",
            " [[6.28298130e-01 3.30327044e-01 5.66363071e-01]\n",
            "  [7.19751158e-01 7.37192263e-02 2.15084025e-01]\n",
            "  [6.31158108e-01 9.46158876e-01 1.67164433e-01]]]\n"
          ]
        }
      ]
    },
    {
      "cell_type": "code",
      "metadata": {
        "id": "YJ7WC2ihBMLp"
      },
      "source": [
        ""
      ],
      "execution_count": null,
      "outputs": []
    },
    {
      "cell_type": "markdown",
      "metadata": {
        "id": "WX2GXD4L9YzK"
      },
      "source": [
        "6. Encontrar los indices de los valores minimos y maximos de la anterior matriz"
      ]
    },
    {
      "cell_type": "code",
      "metadata": {
        "id": "oVCxMqay_vjz"
      },
      "source": [
        ""
      ],
      "execution_count": null,
      "outputs": []
    },
    {
      "cell_type": "code",
      "metadata": {
        "id": "cV2oT1RzBM2a"
      },
      "source": [
        ""
      ],
      "execution_count": null,
      "outputs": []
    },
    {
      "cell_type": "markdown",
      "metadata": {
        "id": "SWxt_CgB9YzM"
      },
      "source": [
        "7. Crear dos arrays al azar A y B, verificar si son iguales"
      ]
    },
    {
      "cell_type": "code",
      "metadata": {
        "id": "ePivcWav_u5e"
      },
      "source": [
        ""
      ],
      "execution_count": null,
      "outputs": []
    },
    {
      "cell_type": "markdown",
      "metadata": {
        "id": "wvRe-Jhd9YzH"
      },
      "source": [
        "8. Encontrar los indices que no son ceros del array [1,2,4,2,4,0,1,0,0,0,12,4,5,6,7,0]"
      ]
    },
    {
      "cell_type": "code",
      "metadata": {
        "id": "FptxpLU__t6l"
      },
      "source": [
        ""
      ],
      "execution_count": null,
      "outputs": []
    },
    {
      "cell_type": "markdown",
      "metadata": {
        "id": "9vVPScoa9YzK"
      },
      "source": [
        "9. Crear una matriz de 10x10 con 1's en los bordes y 0 en el interior (con rangos de indices)"
      ]
    },
    {
      "cell_type": "code",
      "metadata": {
        "id": "rbr9A-0B_tCL"
      },
      "source": [
        ""
      ],
      "execution_count": null,
      "outputs": []
    },
    {
      "cell_type": "code",
      "metadata": {
        "id": "ID7h9sdo_rLm"
      },
      "source": [
        ""
      ],
      "execution_count": null,
      "outputs": []
    },
    {
      "cell_type": "markdown",
      "metadata": {
        "id": "NTKSyjX09YzL"
      },
      "source": [
        "10. Crear una matriz de 5x5 con valores en los renglones que vayan de 0 a 4"
      ]
    },
    {
      "cell_type": "code",
      "metadata": {
        "id": "fPe7LeB-_sLj"
      },
      "source": [
        ""
      ],
      "execution_count": null,
      "outputs": []
    }
  ]
}